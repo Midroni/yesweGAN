{
  "nbformat": 4,
  "nbformat_minor": 0,
  "metadata": {
    "colab": {
      "name": "Process_IMDB_data.ipynb",
      "provenance": [],
      "collapsed_sections": []
    },
    "kernelspec": {
      "name": "python2",
      "display_name": "Python 2"
    },
    "accelerator": "GPU"
  },
  "cells": [
    {
      "cell_type": "code",
      "metadata": {
        "id": "BGxcAUq_Tv9M",
        "colab_type": "code",
        "colab": {
          "base_uri": "https://localhost:8080/",
          "height": 217
        },
        "outputId": "317cdb56-f36b-4298-c3f0-9054683fd3b5"
      },
      "source": [
        "! wget http://ai.stanford.edu/~amaas/data/sentiment/aclImdb_v1.tar.gz \\\n",
        "    -O /tmp/imdb.tar.gz\n",
        "! tar -xf /tmp/imdb.tar.gz -C /tmp"
      ],
      "execution_count": 2,
      "outputs": [
        {
          "output_type": "stream",
          "text": [
            "--2020-03-01 22:55:16--  http://ai.stanford.edu/~amaas/data/sentiment/aclImdb_v1.tar.gz\n",
            "Resolving ai.stanford.edu (ai.stanford.edu)... 171.64.68.10\n",
            "Connecting to ai.stanford.edu (ai.stanford.edu)|171.64.68.10|:80... connected.\n",
            "HTTP request sent, awaiting response... 200 OK\n",
            "Length: 84125825 (80M) [application/x-gzip]\n",
            "Saving to: ‘/tmp/imdb.tar.gz’\n",
            "\n",
            "/tmp/imdb.tar.gz    100%[===================>]  80.23M  58.4MB/s    in 1.4s    \n",
            "\n",
            "2020-03-01 22:55:23 (58.4 MB/s) - ‘/tmp/imdb.tar.gz’ saved [84125825/84125825]\n",
            "\n"
          ],
          "name": "stdout"
        }
      ]
    },
    {
      "cell_type": "code",
      "metadata": {
        "id": "vakVvx3XUe6J",
        "colab_type": "code",
        "colab": {
          "base_uri": "https://localhost:8080/",
          "height": 126
        },
        "outputId": "9fa29fd5-bcbe-4b0b-d69b-58480fd2ee73"
      },
      "source": [
        "! git clone git@git.byr.moe:fdt/models.git"
      ],
      "execution_count": 11,
      "outputs": [
        {
          "output_type": "stream",
          "text": [
            "Cloning into 'models'...\n",
            "ssh: connect to host git.byr.moe port 22: Cannot assign requested address\n",
            "fatal: Could not read from remote repository.\n",
            "\n",
            "Please make sure you have the correct access rights\n",
            "and the repository exists.\n"
          ],
          "name": "stdout"
        }
      ]
    },
    {
      "cell_type": "code",
      "metadata": {
        "id": "jSWBw_ezfefZ",
        "colab_type": "code",
        "colab": {
          "base_uri": "https://localhost:8080/",
          "height": 710
        },
        "outputId": "9227bffe-9479-43ce-a181-1217f344d1e0"
      },
      "source": [
        "!pip install tensorflow-gpu==1.15"
      ],
      "execution_count": 27,
      "outputs": [
        {
          "output_type": "stream",
          "text": [
            "Collecting tensorflow-gpu==1.15\n",
            "\u001b[?25l  Downloading https://files.pythonhosted.org/packages/bb/bc/82b584810f00aa589fa4c5ad0569b635980e68c9751edb520645cff1462c/tensorflow_gpu-1.15.0-cp27-cp27mu-manylinux2010_x86_64.whl (411.5MB)\n",
            "\u001b[K     |████████████████████████████████| 411.5MB 37kB/s \n",
            "\u001b[?25hRequirement already satisfied: gast==0.2.2 in /usr/local/lib/python2.7/dist-packages (from tensorflow-gpu==1.15) (0.2.2)\n",
            "Requirement already satisfied: grpcio>=1.8.6 in /usr/local/lib/python2.7/dist-packages (from tensorflow-gpu==1.15) (1.15.0)\n",
            "Requirement already satisfied: numpy<2.0,>=1.16.0 in /usr/local/lib/python2.7/dist-packages (from tensorflow-gpu==1.15) (1.16.4)\n",
            "Requirement already satisfied: functools32>=3.2.3 in /usr/local/lib/python2.7/dist-packages (from tensorflow-gpu==1.15) (3.2.3.post2)\n",
            "Requirement already satisfied: tensorboard<1.16.0,>=1.15.0 in /usr/local/lib/python2.7/dist-packages (from tensorflow-gpu==1.15) (1.15.0)\n",
            "Requirement already satisfied: protobuf>=3.6.1 in /usr/local/lib/python2.7/dist-packages (from tensorflow-gpu==1.15) (3.7.1)\n",
            "Requirement already satisfied: keras-preprocessing>=1.0.5 in /usr/local/lib/python2.7/dist-packages (from tensorflow-gpu==1.15) (1.1.0)\n",
            "Requirement already satisfied: backports.weakref>=1.0rc1; python_version < \"3.4\" in /usr/local/lib/python2.7/dist-packages (from tensorflow-gpu==1.15) (1.0.post1)\n",
            "Collecting tensorflow-estimator==1.15.1\n",
            "\u001b[?25l  Downloading https://files.pythonhosted.org/packages/de/62/2ee9cd74c9fa2fa450877847ba560b260f5d0fb70ee0595203082dafcc9d/tensorflow_estimator-1.15.1-py2.py3-none-any.whl (503kB)\n",
            "\u001b[K     |████████████████████████████████| 512kB 47.7MB/s \n",
            "\u001b[?25hRequirement already satisfied: keras-applications>=1.0.8 in /usr/local/lib/python2.7/dist-packages (from tensorflow-gpu==1.15) (1.0.8)\n",
            "Requirement already satisfied: wheel in /usr/local/lib/python2.7/dist-packages (from tensorflow-gpu==1.15) (0.34.2)\n",
            "Requirement already satisfied: wrapt>=1.11.1 in /usr/local/lib/python2.7/dist-packages (from tensorflow-gpu==1.15) (1.11.2)\n",
            "Requirement already satisfied: six>=1.10.0 in /usr/local/lib/python2.7/dist-packages (from tensorflow-gpu==1.15) (1.12.0)\n",
            "Requirement already satisfied: mock>=2.0.0 in /usr/local/lib/python2.7/dist-packages (from tensorflow-gpu==1.15) (2.0.0)\n",
            "Requirement already satisfied: absl-py>=0.7.0 in /usr/local/lib/python2.7/dist-packages (from tensorflow-gpu==1.15) (0.7.1)\n",
            "Requirement already satisfied: opt-einsum>=2.3.2 in /usr/local/lib/python2.7/dist-packages (from tensorflow-gpu==1.15) (2.3.2)\n",
            "Requirement already satisfied: termcolor>=1.1.0 in /usr/local/lib/python2.7/dist-packages (from tensorflow-gpu==1.15) (1.1.0)\n",
            "Requirement already satisfied: google-pasta>=0.1.6 in /usr/local/lib/python2.7/dist-packages (from tensorflow-gpu==1.15) (0.1.7)\n",
            "Requirement already satisfied: enum34>=1.1.6; python_version < \"3.4\" in /usr/local/lib/python2.7/dist-packages (from tensorflow-gpu==1.15) (1.1.6)\n",
            "Requirement already satisfied: astor>=0.6.0 in /usr/local/lib/python2.7/dist-packages (from tensorflow-gpu==1.15) (0.8.0)\n",
            "Requirement already satisfied: futures>=2.2.0 in /usr/local/lib/python2.7/dist-packages (from grpcio>=1.8.6->tensorflow-gpu==1.15) (3.2.0)\n",
            "Requirement already satisfied: setuptools>=41.0.0 in /usr/local/lib/python2.7/dist-packages (from tensorboard<1.16.0,>=1.15.0->tensorflow-gpu==1.15) (44.0.0)\n",
            "Requirement already satisfied: werkzeug>=0.11.15 in /usr/local/lib/python2.7/dist-packages (from tensorboard<1.16.0,>=1.15.0->tensorflow-gpu==1.15) (0.15.5)\n",
            "Requirement already satisfied: markdown>=2.6.8 in /usr/local/lib/python2.7/dist-packages (from tensorboard<1.16.0,>=1.15.0->tensorflow-gpu==1.15) (3.1.1)\n",
            "Requirement already satisfied: h5py in /usr/local/lib/python2.7/dist-packages (from keras-applications>=1.0.8->tensorflow-gpu==1.15) (2.8.0)\n",
            "Requirement already satisfied: funcsigs>=1; python_version < \"3.3\" in /usr/local/lib/python2.7/dist-packages (from mock>=2.0.0->tensorflow-gpu==1.15) (1.0.2)\n",
            "Requirement already satisfied: pbr>=0.11 in /usr/local/lib/python2.7/dist-packages (from mock>=2.0.0->tensorflow-gpu==1.15) (5.4.0)\n",
            "Installing collected packages: tensorflow-estimator, tensorflow-gpu\n",
            "  Found existing installation: tensorflow-estimator 1.15.0\n",
            "    Uninstalling tensorflow-estimator-1.15.0:\n",
            "      Successfully uninstalled tensorflow-estimator-1.15.0\n",
            "Successfully installed tensorflow-estimator-1.15.1 tensorflow-gpu-1.15.0\n"
          ],
          "name": "stdout"
        }
      ]
    },
    {
      "cell_type": "code",
      "metadata": {
        "id": "IBv3ICWTYRLc",
        "colab_type": "code",
        "colab": {
          "base_uri": "https://localhost:8080/",
          "height": 35
        },
        "outputId": "c4044c4d-9f81-4fd6-ead9-8cffffa7e016"
      },
      "source": [
        "% cd /content/adverserial_text"
      ],
      "execution_count": 16,
      "outputs": [
        {
          "output_type": "stream",
          "text": [
            "/content/adverserial_text\n"
          ],
          "name": "stdout"
        }
      ]
    },
    {
      "cell_type": "code",
      "metadata": {
        "id": "fQmHtTRmT1qb",
        "colab_type": "code",
        "colab": {
          "base_uri": "https://localhost:8080/",
          "height": 255
        },
        "outputId": "cdedb654-cb1c-46c2-b7be-25e7d7707c34"
      },
      "source": [
        "! IMDB_DATA_DIR=/content/adverserial_text/tmp/\n",
        "! python gen_vocab.py \\\n",
        "    --output_dir=$IMDB_DATA_DIR \\\n",
        "    --dataset=imdb \\\n",
        "    --imdb_input_dir=/content/adverserial_text/tmp/aclImdb \\\n",
        "    --lowercase=False\n"
      ],
      "execution_count": 23,
      "outputs": [
        {
          "output_type": "stream",
          "text": [
            "WARNING: Logging before flag parsing goes to stderr.\n",
            "W0301 23:19:00.797565 139997490308992 module_wrapper.py:139] From gen_vocab.py:100: The name tf.app.run is deprecated. Please use tf.compat.v1.app.run instead.\n",
            "\n",
            "W0301 23:19:00.798053 139997490308992 module_wrapper.py:139] From gen_vocab.py:70: The name tf.logging.set_verbosity is deprecated. Please use tf.compat.v1.logging.set_verbosity instead.\n",
            "\n",
            "W0301 23:19:00.798198 139997490308992 module_wrapper.py:139] From gen_vocab.py:70: The name tf.logging.INFO is deprecated. Please use tf.compat.v1.logging.INFO instead.\n",
            "\n",
            "W0301 23:19:00.798341 139997490308992 module_wrapper.py:139] From /content/adverserial_text/data/document_generators.py:180: The name tf.logging.info is deprecated. Please use tf.compat.v1.logging.info instead.\n",
            "\n",
            "I0301 23:19:00.798415 139997490308992 document_generators.py:180] Generating IMDB documents...\n",
            "W0301 23:20:37.668761 139997490308992 module_wrapper.py:139] From gen_vocab.py:95: The name tf.gfile.MakeDirs is deprecated. Please use tf.io.gfile.makedirs instead.\n",
            "\n"
          ],
          "name": "stdout"
        }
      ]
    },
    {
      "cell_type": "code",
      "metadata": {
        "id": "fmE9_Ow9WOAr",
        "colab_type": "code",
        "colab": {
          "base_uri": "https://localhost:8080/",
          "height": 357
        },
        "outputId": "2e0e207f-73db-4a02-b65f-f3205563666e"
      },
      "source": [
        "! python gen_data.py \\\n",
        "    --output_dir=$IMDB_DATA_DIR \\\n",
        "    --dataset=imdb \\\n",
        "    --imdb_input_dir=/content/adverserial_text/tmp/aclImdb \\\n",
        "    --lowercase=False \\\n",
        "    --label_gain=False"
      ],
      "execution_count": 0,
      "outputs": [
        {
          "output_type": "stream",
          "text": [
            "WARNING: Logging before flag parsing goes to stderr.\n",
            "W0301 23:54:14.243940 140112928196480 module_wrapper.py:139] From gen_data.py:217: The name tf.app.run is deprecated. Please use tf.compat.v1.app.run instead.\n",
            "\n",
            "W0301 23:54:14.244426 140112928196480 module_wrapper.py:139] From gen_data.py:201: The name tf.logging.set_verbosity is deprecated. Please use tf.compat.v1.logging.set_verbosity instead.\n",
            "\n",
            "W0301 23:54:14.244618 140112928196480 module_wrapper.py:139] From gen_data.py:201: The name tf.logging.INFO is deprecated. Please use tf.compat.v1.logging.INFO instead.\n",
            "\n",
            "W0301 23:54:14.244741 140112928196480 module_wrapper.py:139] From gen_data.py:202: The name tf.logging.info is deprecated. Please use tf.compat.v1.logging.info instead.\n",
            "\n",
            "I0301 23:54:14.244818 140112928196480 gen_data.py:202] Assigning vocabulary ids...\n",
            "I0301 23:54:14.346290 140112928196480 gen_data.py:209] Generating training data...\n",
            "W0301 23:54:14.346606 140112928196480 module_wrapper.py:139] From gen_data.py:61: The name tf.python_io.TFRecordWriter is deprecated. Please use tf.io.TFRecordWriter instead.\n",
            "\n",
            "I0301 23:54:14.346962 140112928196480 document_generators.py:180] Generating IMDB documents...\n",
            "I0302 00:38:37.502264 140112928196480 gen_data.py:212] Generating test data...\n",
            "I0302 00:38:37.502693 140112928196480 document_generators.py:180] Generating IMDB documents...\n"
          ],
          "name": "stdout"
        }
      ]
    },
    {
      "cell_type": "code",
      "metadata": {
        "id": "twCm5YGcWOme",
        "colab_type": "code",
        "colab": {}
      },
      "source": [
        "# not necessary to run this\n",
        "! PRETRAIN_DIR=/tmp/models/imdb_pretrain\n",
        "! python pretrain.py \\\n",
        "    --train_dir=$PRETRAIN_DIR \\\n",
        "    --data_dir=$IMDB_DATA_DIR \\\n",
        "    --vocab_size=86934 \\\n",
        "    --embedding_dims=256 \\\n",
        "    --rnn_cell_size=1024 \\\n",
        "    --num_candidate_samples=1024 \\\n",
        "    --batch_size=256 \\\n",
        "    --learning_rate=0.001 \\\n",
        "    --learning_rate_decay_factor=0.9999 \\\n",
        "    --max_steps=100000 \\\n",
        "    --max_grad_norm=1.0 \\\n",
        "    --num_timesteps=400 \\\n",
        "    --keep_prob_emb=0.5 \\\n",
        "    --normalize_embeddings"
      ],
      "execution_count": 0,
      "outputs": []
    }
  ]
}