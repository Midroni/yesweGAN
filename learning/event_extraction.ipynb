{
 "cells": [
  {
   "cell_type": "markdown",
   "metadata": {},
   "source": [
    "# Event Extraction\n",
    "Event Extraction is the process of gathering knowledge about periodical incidents found in texts. Once we identify an event, we can perform a variety of useful analyses such as gathering information about what happened. when it happened, who was involved, etc.\n",
    "\n",
    "Consider the fact that *identifying an event* is the first step towards deriving any form of meaningful insight from them. Furthermore, when we summarize an article, blog, or text, it is practical to do so by referring to the events which transpired within them. Now knowing the value of **Event Extraction** let's walk through the process of taking a text corpus and producing a list of the events within.\n",
    "\n",
    "## Import Libraries"
   ]
  },
  {
   "cell_type": "code",
   "execution_count": 1,
   "metadata": {},
   "outputs": [],
   "source": [
    "import pandas as pd\n",
    "import numpy as np"
   ]
  },
  {
   "cell_type": "markdown",
   "metadata": {},
   "source": [
    "## Import Data\n",
    "We will use **[newsapi](https://newsapi.org/)** to acquire our text data. \n",
    "\n",
    "News API is a simple HTTP REST API for searching and retrieving live articles from the web. We can search with any combination of the following criteria:\n",
    "- **Keyword or Phrase**: e.g find all all articles containing the word 'Microsoft'.\n",
    "- **Date published**\n",
    "- **Source name**: e.g. find all articles by a specific outlet\n",
    "- **Source domain name**: e.g. find all articles published on nytimes.com\n",
    "- **Language**: e.g. find all articles writtein in English.\n",
    "\n",
    "Results can be sorted by date published, relevancy to keyword, popularity of source. \n",
    "\n",
    "\n",
    "Below we recreate the functions to access the API as seen on the medium article."
   ]
  },
  {
   "cell_type": "code",
   "execution_count": 2,
   "metadata": {},
   "outputs": [],
   "source": [
    "from newsapi import NewsApiClient\n",
    "from tqdm import tqdm #progress bar library\n",
    "from datetime import datetime, timedelta\n",
    "\n",
    "newsapi = NewsApiClient(api_key='b0d0ef32fe63459693f4e47ff985cfc0')"
   ]
  },
  {
   "cell_type": "code",
   "execution_count": 3,
   "metadata": {},
   "outputs": [],
   "source": [
    "#some functions from the medium article\n",
    "def get_past_articles(past=30):\n",
    "    '''\n",
    "    \n",
    "    \n",
    "    '''\n",
    "    past_articles = dict()\n",
    "    for past_days in range(1, past):\n",
    "        from_day = str(datetime.now() - timedelta(days=past_days))\n",
    "        to_day = str(datetime.now() - timedelta(days=past_days -1))\n",
    "        past_articles.update({from_day:to_day})\n",
    "    return past_articles\n",
    "\n",
    "def get_articles(query, past=30):\n",
    "    past_articles = get_past_articles(past)\n",
    "    all_articles = []\n",
    "    for i, j in tqdm(past_articles.items()):\n",
    "        for pag in tqdm(range(1,6)):\n",
    "            pag_articles = newsapi.get_everything(q=query,language='en',\n",
    "                                                  from_param=i, to=j,\n",
    "                                                  sort_by='relevancy',page=pag)['articles']\n",
    "            if len(pag_articles) == 0:\n",
    "                break\n",
    "            all_articles.extend(pag_articles)\n",
    "    return all_articles"
   ]
  },
  {
   "cell_type": "markdown",
   "metadata": {},
   "source": [
    "Only run the below cell if you haven't stored your pickle yet or want to change your search"
   ]
  },
  {
   "cell_type": "code",
   "execution_count": null,
   "metadata": {},
   "outputs": [],
   "source": [
    "# articles = get_articles('Carbon Tax',past=30)\n",
    "# df = pd.DataFrame(articles)\n",
    "# df.to_pickle('../../../data/newsapi.pkl')"
   ]
  },
  {
   "cell_type": "code",
   "execution_count": 4,
   "metadata": {},
   "outputs": [],
   "source": [
    "df = pd.read_pickle('../../../data/newsapi.pkl')"
   ]
  },
  {
   "cell_type": "code",
   "execution_count": 5,
   "metadata": {},
   "outputs": [
    {
     "data": {
      "text/html": [
       "<div>\n",
       "<style scoped>\n",
       "    .dataframe tbody tr th:only-of-type {\n",
       "        vertical-align: middle;\n",
       "    }\n",
       "\n",
       "    .dataframe tbody tr th {\n",
       "        vertical-align: top;\n",
       "    }\n",
       "\n",
       "    .dataframe thead th {\n",
       "        text-align: right;\n",
       "    }\n",
       "</style>\n",
       "<table border=\"1\" class=\"dataframe\">\n",
       "  <thead>\n",
       "    <tr style=\"text-align: right;\">\n",
       "      <th></th>\n",
       "      <th>author</th>\n",
       "      <th>content</th>\n",
       "      <th>description</th>\n",
       "      <th>publishedAt</th>\n",
       "      <th>source</th>\n",
       "      <th>title</th>\n",
       "      <th>url</th>\n",
       "      <th>urlToImage</th>\n",
       "    </tr>\n",
       "  </thead>\n",
       "  <tbody>\n",
       "    <tr>\n",
       "      <th>count</th>\n",
       "      <td>1283</td>\n",
       "      <td>1467</td>\n",
       "      <td>1477</td>\n",
       "      <td>1486</td>\n",
       "      <td>1486</td>\n",
       "      <td>1486</td>\n",
       "      <td>1486</td>\n",
       "      <td>1407</td>\n",
       "    </tr>\n",
       "    <tr>\n",
       "      <th>unique</th>\n",
       "      <td>822</td>\n",
       "      <td>1387</td>\n",
       "      <td>1377</td>\n",
       "      <td>1366</td>\n",
       "      <td>350</td>\n",
       "      <td>1315</td>\n",
       "      <td>1485</td>\n",
       "      <td>1228</td>\n",
       "    </tr>\n",
       "    <tr>\n",
       "      <th>top</th>\n",
       "      <td>https://www.facebook.com/DailyMail</td>\n",
       "      <td>In 2005, a decade before he would launch the s...</td>\n",
       "      <td>It's an online form of currency and, yet, it's...</td>\n",
       "      <td>2019-06-25T12:00:59Z</td>\n",
       "      <td>{'id': 'cbc-news', 'name': 'CBC News'}</td>\n",
       "      <td>Electric planes start small as industry wrestl...</td>\n",
       "      <td>https://www.seattletimes.com/seattle-news/poli...</td>\n",
       "      <td>https://s.yimg.com/os/mit/media/m/social/image...</td>\n",
       "    </tr>\n",
       "    <tr>\n",
       "      <th>freq</th>\n",
       "      <td>24</td>\n",
       "      <td>8</td>\n",
       "      <td>6</td>\n",
       "      <td>7</td>\n",
       "      <td>55</td>\n",
       "      <td>9</td>\n",
       "      <td>2</td>\n",
       "      <td>18</td>\n",
       "    </tr>\n",
       "  </tbody>\n",
       "</table>\n",
       "</div>"
      ],
      "text/plain": [
       "                                    author  \\\n",
       "count                                 1283   \n",
       "unique                                 822   \n",
       "top     https://www.facebook.com/DailyMail   \n",
       "freq                                    24   \n",
       "\n",
       "                                                  content  \\\n",
       "count                                                1467   \n",
       "unique                                               1387   \n",
       "top     In 2005, a decade before he would launch the s...   \n",
       "freq                                                    8   \n",
       "\n",
       "                                              description  \\\n",
       "count                                                1477   \n",
       "unique                                               1377   \n",
       "top     It's an online form of currency and, yet, it's...   \n",
       "freq                                                    6   \n",
       "\n",
       "                 publishedAt                                  source  \\\n",
       "count                   1486                                    1486   \n",
       "unique                  1366                                     350   \n",
       "top     2019-06-25T12:00:59Z  {'id': 'cbc-news', 'name': 'CBC News'}   \n",
       "freq                       7                                      55   \n",
       "\n",
       "                                                    title  \\\n",
       "count                                                1486   \n",
       "unique                                               1315   \n",
       "top     Electric planes start small as industry wrestl...   \n",
       "freq                                                    9   \n",
       "\n",
       "                                                      url  \\\n",
       "count                                                1486   \n",
       "unique                                               1485   \n",
       "top     https://www.seattletimes.com/seattle-news/poli...   \n",
       "freq                                                    2   \n",
       "\n",
       "                                               urlToImage  \n",
       "count                                                1407  \n",
       "unique                                               1228  \n",
       "top     https://s.yimg.com/os/mit/media/m/social/image...  \n",
       "freq                                                   18  "
      ]
     },
     "execution_count": 5,
     "metadata": {},
     "output_type": "execute_result"
    }
   ],
   "source": [
    "df.describe()"
   ]
  },
  {
   "cell_type": "markdown",
   "metadata": {},
   "source": [
    "We can see above that we have many articles, with some missing entries for authors and descriptions. \n",
    "\n",
    "Let us take a look at what each column contains."
   ]
  },
  {
   "cell_type": "code",
   "execution_count": 6,
   "metadata": {},
   "outputs": [
    {
     "name": "stdout",
     "output_type": "stream",
     "text": [
      "author\n",
      "David Baxter\n",
      "\n",
      "content\n",
      "Canadas premiers are meeting in Saskatoon, focusing on economic development in their Wednesday session. However, there is still a key issue at the table  pipelines.\r\n",
      "Prior to the meeting, Council of the Federation (COF) chair and Saskatchewan Premier Scott Mo… [+3647 chars]\n",
      "\n",
      "description\n",
      "Oil pipelines remain contentious as more provinces opposed to federal carbon tax Global News Trudeau needs to get 'Buy America' exemption to stave off job losses: premiers CBC News AFN Chief Calls 40,000 Indigenous Children In Care A Human Rights Issue HuffPo…\n",
      "\n",
      "publishedAt\n",
      "2019-07-10T21:03:00Z\n",
      "\n",
      "source\n",
      "{'id': None, 'name': 'Globalnews.ca'}\n",
      "\n",
      "title\n",
      "Oil pipelines remain contentious as more provinces opposed to federal carbon tax - Global News\n",
      "\n",
      "url\n",
      "https://globalnews.ca/news/5480974/pipelines-provinces-federal-carbon-tax/\n",
      "\n",
      "urlToImage\n",
      "https://shawglobalnews.files.wordpress.com/2019/07/21419916.jpg?quality=70&strip=all&w=720&h=379&crop=1\n",
      "\n"
     ]
    }
   ],
   "source": [
    "for col in df.columns:\n",
    "    print(col)\n",
    "    print(df[col].values[0])\n",
    "    print()"
   ]
  },
  {
   "cell_type": "markdown",
   "metadata": {},
   "source": [
    "Much like the Medium tutorial, let us first focus on working with our titles. That way our processing time will be significantly less, and we can understand the workflow before extending ot analysing events for the entire corpus. In this tutorial they do not preprocess, which gives us the perfect opportunity to set up our own preprocessing pipeline! \n",
    "\n",
    "It appears as though 'content' aims to be the text contained in the article, but NewsAPI cuts off after a few sentences. 'Description' is a brief summary, presumably provided by the publisher.\n",
    "\n",
    "These may become useful later. For now, lets create a dataframe with only the titles, dates, and descriptions."
   ]
  },
  {
   "cell_type": "code",
   "execution_count": 7,
   "metadata": {},
   "outputs": [
    {
     "data": {
      "text/html": [
       "<div>\n",
       "<style scoped>\n",
       "    .dataframe tbody tr th:only-of-type {\n",
       "        vertical-align: middle;\n",
       "    }\n",
       "\n",
       "    .dataframe tbody tr th {\n",
       "        vertical-align: top;\n",
       "    }\n",
       "\n",
       "    .dataframe thead th {\n",
       "        text-align: right;\n",
       "    }\n",
       "</style>\n",
       "<table border=\"1\" class=\"dataframe\">\n",
       "  <thead>\n",
       "    <tr style=\"text-align: right;\">\n",
       "      <th></th>\n",
       "      <th>title</th>\n",
       "      <th>publishedAt</th>\n",
       "      <th>description</th>\n",
       "    </tr>\n",
       "  </thead>\n",
       "  <tbody>\n",
       "    <tr>\n",
       "      <th>count</th>\n",
       "      <td>1486</td>\n",
       "      <td>1486</td>\n",
       "      <td>1477</td>\n",
       "    </tr>\n",
       "    <tr>\n",
       "      <th>unique</th>\n",
       "      <td>1315</td>\n",
       "      <td>1366</td>\n",
       "      <td>1377</td>\n",
       "    </tr>\n",
       "    <tr>\n",
       "      <th>top</th>\n",
       "      <td>Electric planes start small as industry wrestl...</td>\n",
       "      <td>2019-06-25T12:00:59Z</td>\n",
       "      <td>It's an online form of currency and, yet, it's...</td>\n",
       "    </tr>\n",
       "    <tr>\n",
       "      <th>freq</th>\n",
       "      <td>9</td>\n",
       "      <td>7</td>\n",
       "      <td>6</td>\n",
       "    </tr>\n",
       "  </tbody>\n",
       "</table>\n",
       "</div>"
      ],
      "text/plain": [
       "                                                    title  \\\n",
       "count                                                1486   \n",
       "unique                                               1315   \n",
       "top     Electric planes start small as industry wrestl...   \n",
       "freq                                                    9   \n",
       "\n",
       "                 publishedAt  \\\n",
       "count                   1486   \n",
       "unique                  1366   \n",
       "top     2019-06-25T12:00:59Z   \n",
       "freq                       7   \n",
       "\n",
       "                                              description  \n",
       "count                                                1477  \n",
       "unique                                               1377  \n",
       "top     It's an online form of currency and, yet, it's...  \n",
       "freq                                                    6  "
      ]
     },
     "execution_count": 7,
     "metadata": {},
     "output_type": "execute_result"
    }
   ],
   "source": [
    "df = df[['title','publishedAt','description']]\n",
    "df.describe()"
   ]
  },
  {
   "cell_type": "code",
   "execution_count": 8,
   "metadata": {},
   "outputs": [
    {
     "data": {
      "text/html": [
       "<div>\n",
       "<style scoped>\n",
       "    .dataframe tbody tr th:only-of-type {\n",
       "        vertical-align: middle;\n",
       "    }\n",
       "\n",
       "    .dataframe tbody tr th {\n",
       "        vertical-align: top;\n",
       "    }\n",
       "\n",
       "    .dataframe thead th {\n",
       "        text-align: right;\n",
       "    }\n",
       "</style>\n",
       "<table border=\"1\" class=\"dataframe\">\n",
       "  <thead>\n",
       "    <tr style=\"text-align: right;\">\n",
       "      <th></th>\n",
       "      <th>title</th>\n",
       "      <th>publishedAt</th>\n",
       "      <th>description</th>\n",
       "    </tr>\n",
       "  </thead>\n",
       "  <tbody>\n",
       "    <tr>\n",
       "      <th>count</th>\n",
       "      <td>1306</td>\n",
       "      <td>1306</td>\n",
       "      <td>1306</td>\n",
       "    </tr>\n",
       "    <tr>\n",
       "      <th>unique</th>\n",
       "      <td>1306</td>\n",
       "      <td>1262</td>\n",
       "      <td>1284</td>\n",
       "    </tr>\n",
       "    <tr>\n",
       "      <th>top</th>\n",
       "      <td>Oil pipelines remain contentious as more provi...</td>\n",
       "      <td>2019-06-18T01:30:00Z</td>\n",
       "      <td></td>\n",
       "    </tr>\n",
       "    <tr>\n",
       "      <th>freq</th>\n",
       "      <td>1</td>\n",
       "      <td>3</td>\n",
       "      <td>5</td>\n",
       "    </tr>\n",
       "  </tbody>\n",
       "</table>\n",
       "</div>"
      ],
      "text/plain": [
       "                                                    title  \\\n",
       "count                                                1306   \n",
       "unique                                               1306   \n",
       "top     Oil pipelines remain contentious as more provi...   \n",
       "freq                                                    1   \n",
       "\n",
       "                 publishedAt description  \n",
       "count                   1306        1306  \n",
       "unique                  1262        1284  \n",
       "top     2019-06-18T01:30:00Z              \n",
       "freq                       3           5  "
      ]
     },
     "execution_count": 8,
     "metadata": {},
     "output_type": "execute_result"
    }
   ],
   "source": [
    "#drop rows with duplicate titles and drop empty 'na' values\n",
    "df = df.drop_duplicates(subset='title').reset_index(drop=True)\n",
    "df = df.dropna()\n",
    "df.describe()"
   ]
  },
  {
   "cell_type": "markdown",
   "metadata": {},
   "source": [
    "We can see in dropping duplicates and empty values we removed some articles.\n",
    "\n",
    "We will skip past preprocessing and immediately use a pre-trained word representation model. If we were valuing performance, we would use SpaCy's large model with 685k English words, `en_core_web_lg`.\n",
    "\n",
    "**NOTE:** `en_core_web_lg` is a 850 MB+ file, so you can use a smaller one for this example: `en_core_web_sm` which is 10MB. You can find a list of all models [here](https://spacy.io/models/en)\n",
    "\n",
    "If you want to load `en_core_web_sm` you will need to enter your preferred coding environment and type into terminal.: \n",
    "\n",
    "```\n",
    "python -m spacy download en_core_web_sm\n",
    "```\n",
    "\n",
    "In the meantime, I went all out and downloaded the large model so let's see how it goes!"
   ]
  },
  {
   "cell_type": "code",
   "execution_count": 9,
   "metadata": {},
   "outputs": [],
   "source": [
    "import spacy\n",
    "nlp = spacy.load('en_core_web_lg')"
   ]
  },
  {
   "cell_type": "markdown",
   "metadata": {},
   "source": [
    "The object `nlp` now is able to wrap around any string and provide us with its vector according to the pre-trained `en_core_web_lg`. For example:"
   ]
  },
  {
   "cell_type": "code",
   "execution_count": 16,
   "metadata": {},
   "outputs": [
    {
     "data": {
      "text/plain": [
       "array([ 3.55766602e-02,  3.03386003e-01, -2.81356335e-01, -3.81086677e-01,\n",
       "       -9.91786718e-02,  2.16976658e-01, -4.04500179e-02, -2.57583320e-01,\n",
       "        1.06113672e-01,  1.37844336e+00, -5.17866671e-01,  1.22420669e-01,\n",
       "        1.91259995e-01,  1.33633316e-02, -1.86933324e-01, -8.34139958e-02,\n",
       "       -1.64890006e-01,  9.18296635e-01, -1.07690014e-01,  2.69199997e-01,\n",
       "        3.19396645e-01, -4.52770106e-02,  4.80006129e-04, -3.84383313e-02,\n",
       "       -1.77996662e-02, -1.89677671e-01,  8.50600004e-03, -3.46013308e-01,\n",
       "        1.32152110e-01, -2.76154011e-01, -5.08249998e-02,  1.45194784e-01,\n",
       "       -4.48366590e-02,  2.63023347e-01, -1.08049959e-02,  5.68770058e-02,\n",
       "        1.25836998e-01, -9.91870090e-02, -5.20579994e-01,  1.28257379e-01,\n",
       "       -9.13520083e-02, -1.43583342e-01, -6.75736666e-02,  2.20445678e-01,\n",
       "       -1.58183333e-02,  4.70750004e-01, -2.19280362e-01,  2.39253327e-01,\n",
       "        1.34416342e-01,  5.87116666e-02, -1.85461000e-01, -2.22413335e-02,\n",
       "        5.07866824e-03, -1.95789337e-01,  5.28626680e-01, -1.51779667e-01,\n",
       "       -2.15843320e-01, -1.36156663e-01,  5.21699972e-02, -1.71799347e-01,\n",
       "       -1.45520672e-01, -2.08583355e-01, -1.99396327e-01,  3.14123333e-02,\n",
       "       -1.14890337e-01, -4.77669686e-01,  6.73749968e-02,  1.53246671e-01,\n",
       "       -1.29921779e-01,  8.62880051e-02, -1.62293330e-01,  3.22583348e-01,\n",
       "        9.03333426e-02,  1.40483335e-01,  2.53043324e-01,  2.19701007e-01,\n",
       "        5.62923290e-02,  3.41760032e-02,  8.72323290e-02, -4.09033298e-02,\n",
       "        3.54573339e-01,  2.32902765e-01, -1.83336679e-02,  6.98633268e-02,\n",
       "        1.52904108e-01, -2.87960798e-01,  6.52400672e-01, -3.63620013e-01,\n",
       "       -2.13633385e-02, -8.80333409e-02, -9.07165837e-03, -1.86748669e-01,\n",
       "       -1.07216664e-01,  2.57163290e-02,  2.97033284e-02,  2.53378659e-01,\n",
       "        8.02266598e-02,  4.12000008e-02, -3.31133336e-01, -2.14582339e-01,\n",
       "        1.14870004e-01, -2.11853340e-01, -6.71666637e-02, -2.39370018e-02,\n",
       "       -5.15413284e-02, -6.52005374e-01,  2.01846004e-01, -1.68560326e-01,\n",
       "        1.48241326e-01,  2.94909980e-02,  1.54320002e-01, -4.01778340e-01,\n",
       "       -1.55148804e-01, -3.42636675e-01,  1.85943339e-02, -4.77937311e-02,\n",
       "        6.81926683e-02,  3.83686610e-02,  1.25723347e-01,  5.83793335e-02,\n",
       "        1.06649995e-02, -4.32570092e-02,  1.49267986e-01, -1.75970674e-01,\n",
       "        2.86850005e-01,  2.08566666e-01,  1.19572997e-01, -6.36172667e-02,\n",
       "       -3.06044668e-01,  6.23136647e-02, -1.88603327e-01, -2.45626662e-02,\n",
       "       -3.81786674e-01,  1.75330833e-01,  1.25866875e-01,  3.36440019e-02,\n",
       "       -6.54366538e-02,  9.33993384e-02, -2.19402313e-01, -1.61808327e-01,\n",
       "       -2.77936673e+00,  1.82861015e-01,  3.05846661e-01,  8.91520008e-02,\n",
       "       -4.07246679e-01, -7.09279999e-02, -2.23829329e-01,  3.67470026e-01,\n",
       "       -2.50336677e-01, -3.64136368e-01, -6.93001365e-03,  1.76376998e-01,\n",
       "        2.66463310e-01,  3.76960002e-02, -8.90496597e-02, -1.65476665e-01,\n",
       "        1.30966706e-02, -3.78854662e-01, -1.43729998e-02,  9.39266607e-02,\n",
       "        8.13109949e-02,  2.11246654e-01,  5.14593385e-02,  3.81193645e-02,\n",
       "       -2.07386672e-01,  3.01706642e-02, -8.10566768e-02, -4.05708998e-01,\n",
       "        2.12053359e-02,  1.72696665e-01, -7.44633451e-02,  4.82366681e-02,\n",
       "        1.89459994e-01, -4.59916681e-01,  3.47209983e-02, -6.12853281e-02,\n",
       "       -3.63063335e-01,  4.51040156e-02, -4.11202349e-02, -3.81980032e-01,\n",
       "        2.35419989e-01, -1.58246338e-01, -2.51120001e-01, -1.18053325e-01,\n",
       "        6.40783310e-02, -1.04629993e-01, -2.96864033e-01, -3.57340008e-01,\n",
       "        1.10007666e-01, -6.68200031e-02,  1.12544000e-01,  4.12756652e-02,\n",
       "       -1.21169679e-01, -5.40530026e-01, -4.36446667e-02,  4.48099971e-02,\n",
       "        1.81070015e-01, -3.73498350e-01, -6.87663332e-02,  1.42886668e-01,\n",
       "       -3.36646676e-01, -1.92643330e-01,  2.17951655e-01,  4.64939959e-02,\n",
       "        2.04323336e-01,  2.20143329e-02,  1.20970003e-01,  2.27850437e-01,\n",
       "        2.19416663e-01, -7.24809989e-02,  2.70096567e-02,  1.38252661e-01,\n",
       "       -2.04250023e-01, -2.83689976e-01, -3.03542018e-01,  1.64242998e-01,\n",
       "        3.20846662e-02, -3.35156679e-01, -2.46639997e-02,  1.41373336e-01,\n",
       "       -2.54896671e-01,  3.23667042e-02,  1.29483894e-01, -1.83783337e-01,\n",
       "        9.76373330e-02,  9.76690054e-02,  1.27070010e-01,  1.66066661e-01,\n",
       "       -3.21166664e-02, -9.86866653e-02, -4.95779991e-01,  4.03820015e-02,\n",
       "       -1.00282669e-01, -4.69853319e-02, -1.32508665e-01, -2.72903353e-01,\n",
       "       -1.36930004e-01, -1.25066340e-01, -1.56632319e-01,  2.30005011e-01,\n",
       "        1.83766689e-02,  2.40729954e-02, -3.48344326e-01,  1.51229993e-01,\n",
       "       -9.97866690e-02, -1.32953003e-01, -6.25899956e-02,  8.85266662e-02,\n",
       "       -1.72488675e-01,  5.00146687e-01,  8.78466666e-02, -1.30916670e-01,\n",
       "       -2.31066659e-01,  1.20108001e-01,  1.91393331e-01,  1.67563334e-01,\n",
       "        1.57583669e-01,  1.08083338e-02, -8.66400003e-02, -6.05553351e-02,\n",
       "        1.25792667e-01,  6.05903305e-02, -9.09500048e-02,  1.79625988e-01,\n",
       "       -5.24103343e-02,  1.14173323e-01, -7.75363371e-02,  2.44379938e-01,\n",
       "       -1.37560010e-01,  1.39856666e-01, -2.46211946e-01, -1.54261991e-01,\n",
       "       -3.02716672e-01,  1.48190662e-01, -1.86456010e-01,  2.20878243e-01,\n",
       "       -4.20929976e-02,  1.31333336e-01,  1.15157962e-02,  4.63006645e-01,\n",
       "        1.05923332e-01, -1.80360332e-01,  1.86700020e-02, -2.98976693e-02,\n",
       "        5.34333400e-02,  1.53492674e-01,  4.84683365e-01,  4.53099906e-02,\n",
       "        6.19200012e-03, -1.23308301e-01,  4.57033329e-02,  7.65976757e-02,\n",
       "       -1.54886007e-01, -3.04019272e-01,  9.39643309e-02,  1.73262313e-01,\n",
       "       -9.79800057e-03, -4.14359331e-01,  2.09486008e-01,  4.97703314e-01],\n",
       "      dtype=float32)"
      ]
     },
     "execution_count": 16,
     "metadata": {},
     "output_type": "execute_result"
    }
   ],
   "source": [
    "nlp('I love bananas').vector"
   ]
  },
  {
   "cell_type": "markdown",
   "metadata": {},
   "source": [
    "Let's now vectorize each title and add it to a list called `docs`. "
   ]
  },
  {
   "cell_type": "code",
   "execution_count": 10,
   "metadata": {},
   "outputs": [
    {
     "name": "stderr",
     "output_type": "stream",
     "text": [
      "100%|██████████| 1306/1306 [00:09<00:00, 137.99it/s]\n"
     ]
    }
   ],
   "source": [
    "sentence_vecs = {}\n",
    "docs = []\n",
    "\n",
    "for title in tqdm(df.title):\n",
    "    doc = nlp(title)\n",
    "    docs.append(doc)\n",
    "    sentence_vecs.update({title: doc.vector})"
   ]
  },
  {
   "cell_type": "markdown",
   "metadata": {},
   "source": [
    "We will store the respective sentences and vectors in lists of their own."
   ]
  },
  {
   "cell_type": "code",
   "execution_count": 19,
   "metadata": {},
   "outputs": [],
   "source": [
    "sentences = list(sentence_vecs.keys())\n",
    "vectors = list(sentence_vecs.values())"
   ]
  },
  {
   "cell_type": "markdown",
   "metadata": {},
   "source": [
    "We saw above what a single vector looks like. This language model encodes each word in a 300-dimensional vector. "
   ]
  },
  {
   "cell_type": "code",
   "execution_count": 22,
   "metadata": {},
   "outputs": [
    {
     "name": "stdout",
     "output_type": "stream",
     "text": [
      "300\n"
     ]
    }
   ],
   "source": [
    "print(len(vectors[11]))"
   ]
  },
  {
   "cell_type": "markdown",
   "metadata": {},
   "source": [
    "## Cluster the Vectors\n",
    "We have now completed the noble work of transforming our article titles into a form which is processable by our models. To understand what to do with our vector-embedded sentences we will have to think a few steps ahead.\n",
    "\n",
    "Let's take a moment to remind ourselves of the end game. What we're after is the recognition of an event from a collection of article headlines. To reframe the problem, to find an event we must be able *to discard all non-events*. Our intuition tells us that frequency may be a good measure of whether or not an event occured. After all, we imagine that the vast majority of our headlines are one-offs, but if a grouping of similar headlines has a high enough population this may be an indicator of multiple outlets picking up on the same occurence.\n",
    "\n",
    "The problem of grouping our headlines together and counting their population size is the problem of **clustering**. This unsupervised learning technique will find the natural structure of our dataset. Finding structure essentially means finding groups for which members of that group are more similar to each other than to non-members.  \n",
    "\n",
    "As our sentences have been vector-embedded, we expect articles of similar topics to cluster together and belong to the same group, and to be separated from unrelated articles. Here, we will use scikit-learn's `DBSCAN` algorithm.\n",
    "\n",
    "This clustering algorithm is in the family of *density based clustering algorithms*. Unlike a more commonly used algorithm such as kmeans, it does not require that we specify the number of clusters beforehand. Keep in mind that the algorithm that you use is a design decision in this process and *will* affect the out come. As such, I highly recommend you try different algorithms to see the results."
   ]
  },
  {
   "cell_type": "code",
   "execution_count": 24,
   "metadata": {},
   "outputs": [],
   "source": [
    "from sklearn.cluster import DBSCAN"
   ]
  },
  {
   "cell_type": "markdown",
   "metadata": {},
   "source": [
    "Below we perform a hyperparameter sweep over the `eps` argument in DBSCAN. Read DBSCAN's documentation in scikit-learn to understand what it does in depth."
   ]
  },
  {
   "cell_type": "code",
   "execution_count": 25,
   "metadata": {},
   "outputs": [
    {
     "name": "stderr",
     "output_type": "stream",
     "text": [
      "100%|██████████| 500/500 [00:11<00:00, 39.63it/s]\n"
     ]
    }
   ],
   "source": [
    "x = np.array(vectors)\n",
    "n_classes = {}\n",
    "\n",
    "for i in tqdm(np.arange(0.001, 1, 0.002)):\n",
    "    dbscan = DBSCAN(eps=i, min_samples=2, \n",
    "                    metric='cosine').fit(x)\n",
    "    n_classes.update({i: len(pd.Series(dbscan.labels_).value_counts())})"
   ]
  },
  {
   "cell_type": "markdown",
   "metadata": {},
   "source": [
    "Make chart showing the number of clusters."
   ]
  },
  {
   "cell_type": "code",
   "execution_count": 26,
   "metadata": {},
   "outputs": [],
   "source": [
    "#import plotting libraries\n",
    "import seaborn as sns\n",
    "import matplotlib.pyplot as plt"
   ]
  },
  {
   "cell_type": "code",
   "execution_count": 27,
   "metadata": {},
   "outputs": [],
   "source": [
    "#Process the dictionary we made into a dataframe\n",
    "cluster_df = pd.DataFrame.from_dict(n_classes, orient='index')\n",
    "cluster_df['epsilon'] = cluster_df.index.values\n",
    "cluster_df.columns = ['num_clusters','epsilon']\n",
    "cluster_df.index=range(len(cluster_df))"
   ]
  },
  {
   "cell_type": "code",
   "execution_count": 28,
   "metadata": {},
   "outputs": [
    {
     "data": {
      "image/png": "[encoded data removed]",
      "text/plain": [
       "<Figure size 432x288 with 1 Axes>"
      ]
     },
     "metadata": {
      "needs_background": "light"
     },
     "output_type": "display_data"
    }
   ],
   "source": [
    "ax = sns.lineplot(x=\"epsilon\",y='num_clusters',\n",
    "                  data=cluster_df)"
   ]
  },
  {
   "cell_type": "markdown",
   "metadata": {},
   "source": [
    "For the sake of this demo, let us use the epsilon value which provides us with the most clusters. To do so, we will first locate it's index.\n",
    "\n",
    "There is no intrinsic reason that the epsilon value with the most clusters would benefit us in solving this problem. At a moment's thought we can see that it will guarantee that non-similar titles are not grouped together. In a more thorough problem setting we might perform some analysis to see how well a selection of the appropriate epsilon values clusters the titles according to our own human insight.\n",
    "\n",
    "For now we will maximize the number of clusters."
   ]
  },
  {
   "cell_type": "code",
   "execution_count": 31,
   "metadata": {},
   "outputs": [],
   "source": [
    "idx = np.argmax(cluster_df.num_clusters.values)"
   ]
  },
  {
   "cell_type": "code",
   "execution_count": 32,
   "metadata": {},
   "outputs": [
    {
     "name": "stdout",
     "output_type": "stream",
     "text": [
      "0.079\n"
     ]
    }
   ],
   "source": [
    "print(cluster_df.epsilon.values[idx])"
   ]
  },
  {
   "cell_type": "markdown",
   "metadata": {},
   "source": [
    "Let's choose our epsilon value to be 0.07 then"
   ]
  },
  {
   "cell_type": "code",
   "execution_count": 33,
   "metadata": {},
   "outputs": [],
   "source": [
    "dbscan = DBSCAN(eps=0.079, min_samples=2, metric='cosine').fit(x)"
   ]
  },
  {
   "cell_type": "code",
   "execution_count": 34,
   "metadata": {},
   "outputs": [
    {
     "data": {
      "text/plain": [
       "-1     1022\n",
       " 1       68\n",
       " 26      10\n",
       " 35       8\n",
       " 71       8\n",
       " 29       6\n",
       " 9        5\n",
       " 3        5\n",
       "dtype: int64"
      ]
     },
     "execution_count": 34,
     "metadata": {},
     "output_type": "execute_result"
    }
   ],
   "source": [
    "pd.Series(dbscan.labels_).value_counts()[:8]"
   ]
  },
  {
   "cell_type": "markdown",
   "metadata": {},
   "source": [
    "Above we can see our most common classes. It is important to note that the value of '-1' is assigned to clusters with single elements within them. So truly, our most popular class is '1'.\n",
    "\n",
    "Let's take a look at what the headlines in one of these look like."
   ]
  },
  {
   "cell_type": "code",
   "execution_count": 35,
   "metadata": {},
   "outputs": [],
   "source": [
    "#make a dataframe where each row has the headline and its corresponding cluster label\n",
    "results = pd.DataFrame({'label':dbscan.labels_,'sentences':sentences})\n",
    "\n",
    "#sort out all headlines that are in cluster 39\n",
    "examples = results[results.label == 26]\n",
    "examples = examples.sentences.tolist() #get a list of all headlines \n",
    "\n",
    "#get a dataframe of all events which correspond to cluster 39\n",
    "#return the date and title of every article which is in cluster 39\n",
    "event_df = df[df.title.isin(examples)][['publishedAt','title']] \n",
    "event_df = event_df.sort_values(by='publishedAt').dropna()"
   ]
  },
  {
   "cell_type": "code",
   "execution_count": 36,
   "metadata": {},
   "outputs": [
    {
     "data": {
      "text/html": [
       "<div>\n",
       "<style scoped>\n",
       "    .dataframe tbody tr th:only-of-type {\n",
       "        vertical-align: middle;\n",
       "    }\n",
       "\n",
       "    .dataframe tbody tr th {\n",
       "        vertical-align: top;\n",
       "    }\n",
       "\n",
       "    .dataframe thead th {\n",
       "        text-align: right;\n",
       "    }\n",
       "</style>\n",
       "<table border=\"1\" class=\"dataframe\">\n",
       "  <thead>\n",
       "    <tr style=\"text-align: right;\">\n",
       "      <th></th>\n",
       "      <th>publishedAt</th>\n",
       "      <th>title</th>\n",
       "    </tr>\n",
       "  </thead>\n",
       "  <tbody>\n",
       "    <tr>\n",
       "      <th>891</th>\n",
       "      <td>2019-06-20T19:14:50Z</td>\n",
       "      <td>Alberta asks Court of Appeal to rule on federa...</td>\n",
       "    </tr>\n",
       "    <tr>\n",
       "      <th>914</th>\n",
       "      <td>2019-06-21T08:22:31Z</td>\n",
       "      <td>Alberta asks Court of Appeal to look at consti...</td>\n",
       "    </tr>\n",
       "    <tr>\n",
       "      <th>560</th>\n",
       "      <td>2019-06-26T15:06:08Z</td>\n",
       "      <td>Ontario's top court to rule on constitutionali...</td>\n",
       "    </tr>\n",
       "    <tr>\n",
       "      <th>573</th>\n",
       "      <td>2019-06-26T19:16:40Z</td>\n",
       "      <td>Ontario’s top court to rule on constitutionali...</td>\n",
       "    </tr>\n",
       "    <tr>\n",
       "      <th>473</th>\n",
       "      <td>2019-06-28T08:00:00Z</td>\n",
       "      <td>Ontario's top court set to rule on whether fed...</td>\n",
       "    </tr>\n",
       "  </tbody>\n",
       "</table>\n",
       "</div>"
      ],
      "text/plain": [
       "              publishedAt                                              title\n",
       "891  2019-06-20T19:14:50Z  Alberta asks Court of Appeal to rule on federa...\n",
       "914  2019-06-21T08:22:31Z  Alberta asks Court of Appeal to look at consti...\n",
       "560  2019-06-26T15:06:08Z  Ontario's top court to rule on constitutionali...\n",
       "573  2019-06-26T19:16:40Z  Ontario’s top court to rule on constitutionali...\n",
       "473  2019-06-28T08:00:00Z  Ontario's top court set to rule on whether fed..."
      ]
     },
     "execution_count": 36,
     "metadata": {},
     "output_type": "execute_result"
    }
   ],
   "source": [
    "event_df.head()"
   ]
  },
  {
   "cell_type": "markdown",
   "metadata": {},
   "source": [
    "By following the above process for all clusters which are not -1, we end up with a dataframe of events. We can choose to filter them by time and relevance. In this example, we can display one article per day so the timeline is clean and consistent.\n",
    "\n",
    "However, we run into the issue that there are many titles on the same topic each day. We need a criterium to pick one of the titles, ideally the title which is most representative of the event. To do so, we will group the daily sentences and for each group (or cluster) choose the one closest to the center of the cluster. In this sense, we are choosing the 'average sentence'."
   ]
  },
  {
   "cell_type": "code",
   "execution_count": 39,
   "metadata": {},
   "outputs": [],
   "source": [
    "from sklearn.metrics import pairwise_distances_argmin_min\n",
    "\n",
    "def get_mean_vector(sentences):\n",
    "    a = np.zeros(300) #create an array of zeros\n",
    "    for sent in sentences:\n",
    "        a += nlp(sent).vector #vectorize this sentence\n",
    "    return a/len(sentences) #return the average\n",
    "\n",
    "def get_central_vector(sentences):\n",
    "    vecs = []\n",
    "    for sent in sentences:\n",
    "        doc = nlp(sent)\n",
    "        vecs.append(doc.vector)\n",
    "    mean_vec = get_mean_vector(sentences)\n",
    "    index = pairwise_distances_argmin_min(np.array([mean_vec]),vecs)[0][0]\n",
    "    return sentences[index]"
   ]
  },
  {
   "cell_type": "markdown",
   "metadata": {},
   "source": [
    "Let's run this on our current dataframe to see what happens"
   ]
  },
  {
   "cell_type": "code",
   "execution_count": 40,
   "metadata": {},
   "outputs": [
    {
     "data": {
      "text/plain": [
       "'Ontario’s top court to rule on constitutionality of federal carbon tax'"
      ]
     },
     "execution_count": 40,
     "metadata": {},
     "output_type": "execute_result"
    }
   ],
   "source": [
    "get_central_vector(event_df.title.values)"
   ]
  },
  {
   "cell_type": "markdown",
   "metadata": {},
   "source": [
    "Let's try this summarization for our 10 most common clusters"
   ]
  },
  {
   "cell_type": "code",
   "execution_count": 50,
   "metadata": {},
   "outputs": [
    {
     "data": {
      "text/plain": [
       "Int64Index([1, 26, 35, 71, 29, 9, 3, 77, 36, 69], dtype='int64')"
      ]
     },
     "execution_count": 50,
     "metadata": {},
     "output_type": "execute_result"
    }
   ],
   "source": []
  },
  {
   "cell_type": "code",
   "execution_count": 53,
   "metadata": {},
   "outputs": [],
   "source": [
    "def summarize_events(dbscan, sentences, num_events):\n",
    "    results = pd.DataFrame({'label':dbscan.labels_,'sentences':sentences})\n",
    "    clusters = pd.Series(dbscan.labels_).value_counts()[1:1+num_events] #we go [1:1+num_events] to omit cluster -1\n",
    "    clusters = clusters.index.values.astype(int) #get the index values (which store the cluster label)\n",
    "    \n",
    "    for cluster in clusters:\n",
    "        #list of all headlines\n",
    "        examples = results[results.label == cluster].sentences.tolist()\n",
    "        event_df = df[df.title.isin(examples)][['publishedAt','title']] \n",
    "        event_df = event_df.sort_values(by='publishedAt').dropna()\n",
    "        print('Cluster:',cluster)\n",
    "        print(get_central_vector(event_df.title.values))\n",
    "        print()"
   ]
  },
  {
   "cell_type": "code",
   "execution_count": 56,
   "metadata": {},
   "outputs": [
    {
     "name": "stdout",
     "output_type": "stream",
     "text": [
      "Cluster: 1\n",
      "Blink and you'll miss it: Where was climate change in the Democratic debates? - Fast Company\n",
      "\n",
      "Cluster: 26\n",
      "Ontario’s top court to rule on constitutionality of federal carbon tax\n",
      "\n",
      "Cluster: 35\n",
      "Oregon Republican senators end walkout over climate-change bill\n",
      "\n",
      "Cluster: 71\n",
      "Oregon governor sends police after GOP senators who fled Capitol\n",
      "\n",
      "Cluster: 29\n",
      "Climate Politics/Capitol Light (11)\n",
      "\n",
      "Cluster: 9\n",
      "Are Democrats ceding the center to Trump?\n",
      "\n",
      "Cluster: 3\n",
      "2:00PM Water Cooler 6/17/2019\n",
      "\n",
      "Cluster: 77\n",
      "Federal carbon tax would have to double to meet Canada’s climate-change commitments, report says\n",
      "\n",
      "Cluster: 36\n",
      "2020 Ford Mustang Shelby GT500 Pricing Starts At $70,300\n",
      "\n",
      "Cluster: 69\n",
      "Under pressure, plane industry vows cleaner flight — someday\n",
      "\n",
      "Cluster: 17\n",
      "Overnight Energy: Trump touts environmental policies, but says nothing of climate change| Environmental groups fight EPA's new FOIA rule| Health groups sue over Trump rollback of Obama-era emissions rule\n",
      "\n",
      "Cluster: 16\n",
      "P.E.I., Quebec intervene in Saskatchewan's legal challenge of carbon tax\n",
      "\n",
      "Cluster: 15\n",
      "What It Will Take for the Wind and Solar Industries to Collapse\n",
      "\n",
      "Cluster: 13\n",
      "Rethinking the Green New Deal: Using climate policy to address inequality - AEI - American Enterprise Institute: Freedom, Opportunity, Enterprise\n",
      "\n",
      "Cluster: 62\n",
      "Jay Inslee's Latest Climate Plan Would Be the Beginning of the End For Fossil Fuels\n",
      "\n"
     ]
    }
   ],
   "source": [
    "summarize_events(dbscan,sentences,15)"
   ]
  },
  {
   "cell_type": "markdown",
   "metadata": {},
   "source": [
    "Personally I'm not too impressed with this walkthrough of event recognition. It seems to be heavily reliant on the titles telling the truth in the first place.\n",
    "\n",
    "There are some interesting concepts here, namely:\n",
    "- Using the clustering of embedded vectors as a method of finding consensus across many samples"
   ]
  },
  {
   "cell_type": "code",
   "execution_count": null,
   "metadata": {},
   "outputs": [],
   "source": []
  }
 ],
 "metadata": {
  "kernelspec": {
   "display_name": "Python 3",
   "language": "python",
   "name": "python3"
  },
  "language_info": {
   "codemirror_mode": {
    "name": "ipython",
    "version": 3
   },
   "file_extension": ".py",
   "mimetype": "text/x-python",
   "name": "python",
   "nbconvert_exporter": "python",
   "pygments_lexer": "ipython3",
   "version": "3.7.3"
  }
 },
 "nbformat": 4,
 "nbformat_minor": 2
}
